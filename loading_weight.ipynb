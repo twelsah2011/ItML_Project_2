{
 "cells": [
  {
   "cell_type": "code",
   "execution_count": null,
   "metadata": {},
   "outputs": [],
   "source": [
    "import os, warnings\n",
    "warnings.filterwarnings('ignore')\n",
    "from tensorflow.keras.utils import image_dataset_from_directory"
   ]
  },
  {
   "cell_type": "code",
   "execution_count": null,
   "metadata": {},
   "outputs": [],
   "source": [
    "import numpy as np\n",
    "import pandas as pd\n",
    "from sklearn.model_selection import train_test_split\n",
    "import tensorflow as tf\n",
    "from tensorflow.keras import layers\n",
    "import keras\n",
    "from keras.layers import Dense, Flatten, Normalization, Dropout, Conv2D, MaxPooling2D, RandomFlip, RandomRotation, RandomZoom, BatchNormalization, Activation, AveragePooling2D\n",
    "from keras.models import Sequential\n",
    "from keras.losses import SparseCategoricalCrossentropy, CategoricalCrossentropy\n",
    "from keras.callbacks import EarlyStopping\n",
    "from keras.utils import np_utils\n",
    "from keras import utils\n",
    "\n",
    "import matplotlib as mpl\n",
    "import matplotlib.pyplot as plt\n",
    "import seaborn as sns\n",
    "import math\n",
    "\n",
    "from sklearn.preprocessing import LabelEncoder, StandardScaler\n",
    "from sklearn.cluster import KMeans\n",
    "from sklearn.metrics import classification_report, confusion_matrix, roc_auc_score\n",
    "from tensorflow.keras.models import Model\n",
    "from tensorflow.keras.optimizers import Adam\n",
    "from tensorflow.keras.layers import Input\n",
    "import requests"
   ]
  },
  {
   "cell_type": "code",
   "execution_count": null,
   "metadata": {},
   "outputs": [],
   "source": [
    "model_url = 'http://'\n",
    "file_path = 'custom_weights.h5'\n",
    "\n",
    "response = requests.get(model_url)\n",
    "\n",
    "with open(file_path, 'wb') as file:\n",
    "    file.write(response.content)"
   ]
  },
  {
   "cell_type": "code",
   "execution_count": null,
   "metadata": {},
   "outputs": [],
   "source": [
    "num_epochs = 10\n",
    "input_shape = (224, 224, 3)\n",
    "\n",
    "custom_model = Sequential([\n",
    "                    Conv2D(128, (3, 3), input_shape=input_shape, padding=\"same\", kernel_regularizer=\"l2\"),\n",
    "                    BatchNormalization(),\n",
    "                    Activation(\"relu\"),\n",
    "                    MaxPooling2D((2, 2)),\n",
    "                    Conv2D(128, (3, 3), padding=\"same\", kernel_regularizer=\"l2\"),\n",
    "                    Activation(\"relu\"),\n",
    "                    BatchNormalization(),\n",
    "                    MaxPooling2D((2, 2)),\n",
    "                    Dropout(.4),\n",
    "                    Conv2D(128, (3, 3), padding=\"same\", kernel_regularizer=\"l2\"),\n",
    "                    Activation(\"relu\"),\n",
    "                    BatchNormalization(),\n",
    "                    MaxPooling2D((2, 2)),\n",
    "                    Dropout(.4),\n",
    "                    Flatten(),\n",
    "                    Dense(128, activation='relu', kernel_regularizer=\"l2\"),\n",
    "                    Dense(15, activation=\"softmax\")])\n",
    "\n",
    "# use this variable to train the model or to load the model in from weights\n",
    "custom_trainable = False\n",
    "\n",
    "# Set the 'trainable' attribute to False\n",
    "for layer in custom_model.layers:\n",
    "    layer.trainable = custom_trainable\n",
    "\n",
    "custom_model.build(input_shape=(None, input_shape))\n",
    "custom_model.summary()"
   ]
  },
  {
   "cell_type": "code",
   "execution_count": null,
   "metadata": {},
   "outputs": [],
   "source": [
    "custom_model.load_weights('custom_weights.h5')"
   ]
  }
 ],
 "metadata": {
  "kernelspec": {
   "display_name": "backup",
   "language": "python",
   "name": "python3"
  },
  "language_info": {
   "codemirror_mode": {
    "name": "ipython",
    "version": 3
   },
   "file_extension": ".py",
   "mimetype": "text/x-python",
   "name": "python",
   "nbconvert_exporter": "python",
   "pygments_lexer": "ipython3",
   "version": "3.9.13"
  },
  "orig_nbformat": 4
 },
 "nbformat": 4,
 "nbformat_minor": 2
}
